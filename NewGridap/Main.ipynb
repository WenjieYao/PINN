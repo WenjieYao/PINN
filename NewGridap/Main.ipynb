{
 "cells": [
  {
   "cell_type": "code",
   "execution_count": 9,
   "metadata": {},
   "outputs": [
    {
     "name": "stdout",
     "output_type": "stream",
     "text": [
      "Info    : No current model available: creating one\n",
      "Info    : Clearing all models and views...\n",
      "Info    : Done clearing all models and views\n",
      "Info    : Meshing 1D...\n",
      "Info    : Meshing curve 1 (Line)\n",
      "Info    : Meshing curve 2 (Line)\n",
      "Info    : Meshing curve 3 (Line)\n",
      "Info    : Meshing curve 4 (Line)\n",
      "Info    : Meshing curve 5 (Line)\n",
      "Info    : Meshing curve 6 (Line)\n",
      "Info    : Meshing curve 7 (Line)\n",
      "Info    : Meshing curve 8 (Line)\n",
      "Info    : Meshing curve 9 (Line)\n",
      "Info    : Meshing curve 10 (Line)\n",
      "Info    : Meshing curve 11 (Line)\n",
      "Info    : Meshing curve 12 (Line)\n",
      "Info    : Meshing curve 13 (Line)\n",
      "Info    : Meshing curve 14 (Line)\n",
      "Info    : Meshing curve 15 (Line)\n",
      "Info    : Meshing curve 16 (Line)\n",
      "Info    : Meshing curve 17 (Line)\n",
      "Info    : Meshing curve 18 (Line)\n",
      "Info    : Meshing curve 19 (Line)\n",
      "Info    : Meshing curve 20 (Line)\n",
      "Info    : Meshing curve 21 (Line)\n",
      "Info    : Meshing curve 22 (Line)\n",
      "Info    : Meshing curve 23 (Line)\n",
      "Info    : Meshing curve 24 (Line)\n",
      "Info    : Meshing curve 25 (Line)\n",
      "Info    : Meshing curve 26 (Line)\n",
      "Info    : Meshing curve 27 (Line)\n",
      "Info    : Meshing curve 28 (Line)\n",
      "Info    : Meshing curve 29 (Line)\n",
      "Info    : Meshing curve 30 (Line)\n",
      "Info    : Meshing curve 31 (Line)\n",
      "Info    : Meshing curve 32 (Line)\n",
      "Info    : Meshing curve 33 (Line)\n",
      "Info    : Meshing curve 34 (Line)\n",
      "Info    : Meshing curve 35 (Line)\n",
      "Info    : Meshing curve 36 (Line)\n",
      "Info    : Meshing curve 37 (Line)\n",
      "Info    : Meshing curve 38 (Line)\n",
      "Info    : Meshing curve 39 (Line)\n",
      "Info    : Meshing curve 40 (Line)\n",
      "Info    : Meshing curve 41 (Line)\n",
      "Info    : Meshing curve 42 (Line)\n",
      "Info    : Meshing curve 43 (Line)\n",
      "Info    : Meshing curve 44 (Line)\n",
      "Info    : Meshing curve 45 (Line)\n",
      "Info    : Done meshing 1D (0.020176 s)\n",
      "Info    : Meshing 2D...\n",
      "Info    : Meshing surface 1 (Plane, Frontal)\n",
      "Info    : Meshing surface 2 (Plane, Frontal)\n",
      "Info    : Meshing surface 3 (Plane, Frontal)\n",
      "Info    : Meshing surface 4 (Plane, Frontal)\n",
      "Info    : Meshing surface 5 (Plane, Frontal)\n",
      "Info    : Meshing surface 6 (Plane, Frontal)\n",
      "Info    : Meshing surface 7 (Plane, Frontal)\n",
      "Info    : Meshing surface 8 (Plane, Frontal)\n",
      "Info    : Meshing surface 9 (Plane, Frontal)\n",
      "Info    : Meshing surface 10 (Plane, Frontal)\n",
      "Info    : Meshing surface 11 (Plane, Frontal)\n",
      "Info    : Meshing surface 12 (Plane, Frontal)\n",
      "Info    : Meshing surface 13 (Plane, Frontal)\n",
      "Info    : Meshing surface 14 (Plane, Frontal)\n",
      "Info    : Meshing surface 15 (Plane, Frontal)\n",
      "Info    : Meshing surface 16 (Plane, Frontal)\n",
      "Info    : Meshing surface 17 (Plane, Frontal)\n",
      "Info    : Meshing surface 18 (Plane, Frontal)\n",
      "Info    : Done meshing 2D (0.454412 s)\n",
      "Info    : 10721 vertices 22100 elements\n",
      "Info    : Writing 'geometry.msh'...\n",
      "Info    : Done writing 'geometry.msh'\n",
      "Info    : No current model available: creating one\n",
      "Info    : Reading 'geometry.msh'...\n",
      "Info    : 10721 nodes\n",
      "Info    : 22100 elements\n",
      "Info    : Done reading 'geometry.msh'\n"
     ]
    },
    {
     "data": {
      "text/plain": [
       "Measure()"
      ]
     },
     "execution_count": 9,
     "metadata": {},
     "output_type": "execute_result"
    }
   ],
   "source": [
    "push!(LOAD_PATH, \"/Users/jayyao/Documents/Research/PINN/NewGridap/Module\")\n",
    "using PINN\n",
    "using Gridap\n",
    "using GridapGmsh\n",
    "using Gridap.Geometry\n",
    "using NLopt\n",
    "using LinearAlgebra\n",
    "# Geometry parameters of the mesh\n",
    "L = 4.0           # Length of the normal region\n",
    "h1 = 3.0          # Height of the upper region\n",
    "h2 = 1.5          # Height of the lower region above source\n",
    "h3 = 1.5          # Height of the lower region below source\n",
    "dpml = 1.0        # Thickness of the PML\n",
    "hd = 1.0          # Height of the design region\n",
    "\n",
    "LHp=[L/2 h1]\n",
    "LHn=[L/2 hd+h2+h3]\n",
    "\n",
    "# Characteristic length (controls the resolution, smaller the finer)\n",
    "λ = 1.0           # Wavelength (aribitrary unit)\n",
    "resol = 10.0      # Number of points per wavelength\n",
    "l0 = λ/resol      # Normal region\n",
    "ld = l0/2.0       # Design region\n",
    "lpml = 2*l0       # PML \n",
    "\n",
    "\n",
    "# Physical parameters \n",
    "k = 2*π/λ        # Wave number \n",
    "ω = k            # c=1\n",
    "ϵ1 = 1.0         # Relative electric permittivity for material 1\n",
    "ϵ2 = 12.0        # Relative electric permittivity for material 2\n",
    "μ = 1.0          # Relative magnetic permeability for all materials\n",
    "\n",
    "# PML parameters\n",
    "R = 1e-4         # Tolerence for PML reflection \n",
    "σ1 = -3/4*log(R)/dpml/√ϵ1\n",
    "σ2 = -3/4*log(R)/dpml/√ϵ2\n",
    "σs = [σ1 σ2]\n",
    "\n",
    "################## Generate mesh and create model\n",
    "MeshGenerator(L,h1,h2,h3,hd,dpml,l0,ld,lpml)\n",
    "\n",
    "############## Gridap Setup ##################\n",
    "model = GmshDiscreteModel(\"geometry.msh\")\n",
    "\n",
    "order = 1\n",
    "diritags = [\"BottomEdge\",\"TopEdge\", \"BottomNodes\", \"TopNodes\"]\n",
    "neumanntags = [\"LeftEdge\",\"RightEdge\",\"LeftNodes\",\"RightNodes\",\"LeftDEdge\",\"RightDEdge\",\"LeftDNodes\",\"RightDNodes\"]\n",
    "sourcetags = [\"SourceNodes\",\"SourceEdge\"]\n",
    "designboundarytags = [\"LeftDEdge\",\"RightDEdge\",\"TBDEdge\",\"TBDNodes\",\"LeftDNodes\",\"RightDNodes\"]\n",
    "# Test and trial finite element function space\n",
    "# Scalar-valued shape functions,\n",
    "# but a complex vector of free DOFs to represent the solution.\n",
    "# (this automatically leads to complex sparse matrices when assembling)\n",
    "order = 1\n",
    "reffe = ReferenceFE(lagrangian,Float64,order)\n",
    "V = TestFESpace(model,reffe,dirichlet_tags=diritags,vector_type=Vector{ComplexF64})\n",
    "U = TrialFESpace(V,[0 0 0 0])\n",
    "\n",
    "# Piece-wise constant parameter FE function space\n",
    "p_reffe = ReferenceFE(lagrangian,Float64,0)\n",
    "Q = TestFESpace(model,p_reffe,vector_type=Vector{Float64})\n",
    "P = TrialFESpace(Q)\n",
    "\n",
    "# Filtered parameter FE function space\n",
    "pf_reffe = ReferenceFE(lagrangian,Float64,order)\n",
    "Qf = TestFESpace(model,pf_reffe,vector_type=Vector{Float64})\n",
    "Pf = TrialFESpace(Qf)\n",
    "\n",
    "############### Integration domain ################\n",
    "degree = 2\n",
    "Ω = Triangulation(model)\n",
    "dΩ = Measure(Ω,degree)\n",
    "\n",
    "\n",
    "############### Get the sub-region ################\n",
    "labels = get_face_labeling(model)\n",
    "dimension = num_cell_dims(model)\n",
    "tags = get_face_tag(labels,dimension)\n",
    "const design_tag = get_tag_from_name(labels,\"Design\")\n",
    "cellmask_d = get_face_mask(labels,\"Design\",dimension)\n",
    "const target_tag = get_tag_from_name(labels,\"Target\")\n",
    "cellmask_t = get_face_mask(labels,\"Target\",dimension)\n",
    "Ω_d = Triangulation(model,cellmask_d)\n",
    "dΩ_d = Measure(Ω_d,degree)\n",
    "Ω_t = Triangulation(model,cellmask_t)\n",
    "dΩ_t = Measure(Ω_t,degree)\n",
    "# Number of cells in design region (number of design parameters)\n",
    "np = num_cells(Ω_d)\n",
    "\n",
    "Γ = BoundaryTriangulation(model;tags=neumanntags)\n",
    "dΓ = Measure(Γ,degree)\n",
    "\n",
    "Γ_d = BoundaryTriangulation(model;tags=designboundarytags)\n",
    "dΓ_d = Measure(Γ_d,degree)"
   ]
  },
  {
   "cell_type": "code",
   "execution_count": 19,
   "metadata": {},
   "outputs": [
    {
     "name": "stdout",
     "output_type": "stream",
     "text": [
      "g_value = 396.51427817247634\n",
      "g_value = 396.55166674124\n",
      "g_value = 396.51193121630104\n",
      "numevals = opt.numevals = 3\n"
     ]
    },
    {
     "data": {
      "text/plain": [
       "0.052868257495506804"
      ]
     },
     "execution_count": 19,
     "metadata": {},
     "output_type": "execute_result"
    }
   ],
   "source": [
    "############  Optimization parameters #############\n",
    "# Source (particle) locations\n",
    "x0 = [0 -h2-hd]\n",
    "δ = [L 0.2]\n",
    "\n",
    "# Target locations\n",
    "\n",
    "\n",
    "flag_f = true\n",
    "flag_t = false\n",
    "\n",
    "# Filter and threshold paramters\n",
    "r = ld*2.0       # Filter radius\n",
    "β = 1.0          # β∈[1,∞], threshold sharpness\n",
    "η = 0.5          # η∈[0,1], threshold center\n",
    "\n",
    "\n",
    "Amp = 5.0\n",
    "Lt = 1.0\n",
    "Ht = 1.0\n",
    "\n",
    "opt = Opt(:LD_MMA, np)\n",
    "opt.lower_bounds = 0.0\n",
    "opt.upper_bounds = 1.0\n",
    "opt.ftol_rel = 1e-5\n",
    "#opt.stopval = 0.0505*L*h1\n",
    "opt.maxeval = 200\n",
    "opt.min_objective = (p,grad)->g_p(p,grad;x0,δ,Amp,r,flag_f,P,Pf,Qf,β,η,flag_t,\n",
    "        ϵ1,ϵ2,μ,σs,k,LHp,LHn,dpml,hd,h1,Lt,Ht,U,V,dΩ,dΓ,dΩ_t,dΓ_d,tags,design_tag)\n",
    "\n",
    "#(g_opt,p_opt,ret) = optimize(opt, ones(np)*0.5)\n",
    "#(g_opt,p_opt,ret) = optimize(opt, rand(np))\n",
    "(g_opt,p_opt,ret) = optimize(opt, p_min)\n",
    "@show numevals = opt.numevals # the number of function evaluations\n",
    "\n",
    "p_min = p_opt\n",
    "pvec = p_vec(p_min,P,tags,design_tag)\n",
    "pf = Filter(pvec,r,flag_f,P,Pf,Qf,dΩ,dΓ_d)\n",
    "if (flag_f)\n",
    "    pfh = FEFunction(Pf,pf)\n",
    "else\n",
    "    pfh = FEFunction(P,pf)\n",
    "end\n",
    "ph = (pf->Threshold(β,η,flag_t,pf))∘pfh\n",
    "A_mat = MatrixA(ph,ϵ1,ϵ2,μ,σs,k,LHp,LHn,dpml,hd,U,V,dΩ)\n",
    "B_vec = MatrixB(x0,δ,2*π*Amp,V,dΩ,dΓ)\n",
    "\n",
    "u_vec = A_mat\\B_vec\n",
    "\n",
    "uh=FEFunction(U,u_vec)/Amp\n",
    "writevtk(Ω,\"demo\",cellfields=[\n",
    "  \"ϵ0\"=>(ϵ1+(ϵ2-ϵ1)*FEFunction(P,p_vec(p_min,P,tags,design_tag))),\n",
    "  \"ϵf\"=>(ϵ1+(ϵ2-ϵ1)*pfh),\n",
    "  \"ϵt\"=>(ϵ1+(ϵ2-ϵ1)*((pf->Threshold(β,η,flag_t,pf))∘pfh)),\n",
    "  \"Real\"=>real(uh),\n",
    "  \"Imag\"=>imag(uh),\n",
    "  \"|E|^2\"=>abs2(uh)])\n",
    "g_u(u_vec;Amp,h1,Lt,Ht,U,V,dΩ_t)/h1/L/Amp^4"
   ]
  },
  {
   "cell_type": "code",
   "execution_count": 15,
   "metadata": {},
   "outputs": [
    {
     "name": "stdout",
     "output_type": "stream",
     "text": [
      "norm(h) = 4.31921141920814\n",
      "norm(h) = 0.5399014274010175\n",
      "norm(h) = 0.06748767842512719\n",
      "norm(h) = 0.008435959803140899\n",
      "norm(h) = 0.0010544949753926124\n",
      "norm(h) = 0.00013181187192407655\n",
      "norm(h) = 1.647648399050957e-5\n",
      "norm(h) = 2.059560498813696e-6\n"
     ]
    },
    {
     "data": {
      "text/plain": [
       "(1.2978111772198064, 9.37266034561901e-7)"
      ]
     },
     "execution_count": 15,
     "metadata": {},
     "output_type": "execute_result"
    }
   ],
   "source": [
    "using Richardson\n",
    "\n",
    "using Random\n",
    "p0 = rand(np)\n",
    "δp = rand(np)\n",
    "Amp = 20.0\n",
    "extrapolate(δp*0.1, rtol=0) do h\n",
    "    @show norm(h)\n",
    "    (g_p(p0+h;x0,δ,Amp,r,flag_f,P,Pf,Qf,β,η,flag_t,\n",
    "        ϵ1,ϵ2,μ,σs,k,LHp,LHn,dpml,hd,h1,Lt,Ht,U,V,dΩ,dΓ,dΩ_t,dΓ_d,tags,design_tag)-\n",
    "     g_p(p0;x0,δ,Amp,r,flag_f,P,Pf,Qf,β,η,flag_t,\n",
    "        ϵ1,ϵ2,μ,σs,k,LHp,LHn,dpml,hd,h1,Lt,Ht,U,V,dΩ,dΓ,dΩ_t,dΓ_d,tags,design_tag)) / norm(h)\n",
    "end"
   ]
  },
  {
   "cell_type": "code",
   "execution_count": 16,
   "metadata": {},
   "outputs": [
    {
     "name": "stdout",
     "output_type": "stream",
     "text": [
      "g_value = 147936.40737195083\n"
     ]
    },
    {
     "data": {
      "text/plain": [
       "1.2978136724764229"
      ]
     },
     "execution_count": 16,
     "metadata": {},
     "output_type": "execute_result"
    }
   ],
   "source": [
    "grad = zeros(np)\n",
    "g_p(p0,grad;x0,δ,Amp,r,flag_f,P,Pf,Qf,β,η,flag_t,\n",
    "        ϵ1,ϵ2,μ,σs,k,LHp,LHn,dpml,hd,h1,Lt,Ht,U,V,dΩ,dΓ,dΩ_t,dΓ_d,tags,design_tag)\n",
    "grad'*δp/norm(δp)\n"
   ]
  },
  {
   "cell_type": "code",
   "execution_count": null,
   "metadata": {},
   "outputs": [],
   "source": [
    "pf, pf_pullback = rrule(pf_p,p0;r,flag_f,P,Pf,Qf,dΩ,dΓ_d,tags,design_tag)\n",
    "u_vec, u_pullback = rrule(u_pf,pf;x0,δ,Amp,P,Pf,β,η,flag_t,ϵ1,ϵ2,μ,σs,k,LHp,LHn,dpml,hd,U,V,dΩ,dΓ)\n",
    "g, g_pullback = rrule(g_u,u_vec;Amp,h1,Lt,Ht,U,V,dΩ_t)\n",
    "dgdg = 1\n",
    "_, dgdu = g_pullback(dgdg)\n",
    "_, dgdpf = u_pullback(dgdu)\n",
    "_, dgdp = pf_pullback(dgdpf)\n",
    "\n",
    "dgdp'*δp/norm(δp)"
   ]
  },
  {
   "cell_type": "code",
   "execution_count": 4,
   "metadata": {},
   "outputs": [
    {
     "data": {
      "text/plain": [
       "0.04979341235618561"
      ]
     },
     "execution_count": 4,
     "metadata": {},
     "output_type": "execute_result"
    }
   ],
   "source": [
    "g_u(u_vec;Amp,h1,Lt,Ht,U,V,dΩ_t)/h1/L"
   ]
  },
  {
   "cell_type": "code",
   "execution_count": 29,
   "metadata": {},
   "outputs": [
    {
     "data": {
      "text/plain": [
       "3-element Array{VectorValue{2,Float64},1}:\n",
       " VectorValue{2,Float64}(-2.374452538858131, -4.380163302928762)\n",
       " VectorValue{2,Float64}(-2.329031178913234, -4.229153922174064)\n",
       " VectorValue{2,Float64}(-2.225311759192006, -4.328237800587583)"
      ]
     },
     "execution_count": 29,
     "metadata": {},
     "output_type": "execute_result"
    }
   ],
   "source": [
    "cell_center = get_cell_coordinates(Ω)[1]"
   ]
  },
  {
   "cell_type": "code",
   "execution_count": 31,
   "metadata": {},
   "outputs": [
    {
     "data": {
      "text/plain": [
       "3-element Array{VectorValue{2,Float64},1}:\n",
       " VectorValue{2,Float64}(-2.374452538858131, -4.380163302928762)\n",
       " VectorValue{2,Float64}(-2.225311759192006, -4.328237800587583)\n",
       " VectorValue{2,Float64}(-2.227862127239114, -4.448681990657121)"
      ]
     },
     "execution_count": 31,
     "metadata": {},
     "output_type": "execute_result"
    }
   ],
   "source": [
    "get_cell_coordinates(Ω)[2]"
   ]
  },
  {
   "cell_type": "code",
   "execution_count": null,
   "metadata": {},
   "outputs": [],
   "source": []
  }
 ],
 "metadata": {
  "kernelspec": {
   "display_name": "Julia 1.5.2",
   "language": "julia",
   "name": "julia-1.5"
  },
  "language_info": {
   "file_extension": ".jl",
   "mimetype": "application/julia",
   "name": "julia",
   "version": "1.5.2"
  }
 },
 "nbformat": 4,
 "nbformat_minor": 4
}
