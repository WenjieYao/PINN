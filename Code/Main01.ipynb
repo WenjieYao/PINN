{
 "cells": [
  {
   "cell_type": "code",
   "execution_count": 1,
   "metadata": {},
   "outputs": [
    {
     "name": "stdout",
     "output_type": "stream",
     "text": [
      "Info    : Clearing all models and views...\n",
      "Info    : Done clearing all models and views\n",
      "Info    : Meshing 1D...\n",
      "Info    : Meshing curve 1 (Line)\n",
      "Info    : Meshing curve 2 (Line)\n",
      "Info    : Meshing curve 3 (Line)\n",
      "Info    : Meshing curve 4 (Line)\n",
      "Info    : Meshing curve 5 (Line)\n",
      "Info    : Meshing curve 6 (Line)\n",
      "Info    : Meshing curve 7 (Line)\n",
      "Info    : Meshing curve 8 (Line)\n",
      "Info    : Meshing curve 9 (Line)\n",
      "Info    : Meshing curve 10 (Line)\n",
      "Info    : Meshing curve 11 (Line)\n",
      "Info    : Meshing curve 12 (Line)\n",
      "Info    : Meshing curve 13 (Line)\n",
      "Info    : Meshing curve 14 (Line)\n",
      "Info    : Meshing curve 15 (Line)\n",
      "Info    : Meshing curve 16 (Line)\n",
      "Info    : Meshing curve 17 (Line)\n",
      "Info    : Meshing curve 18 (Line)\n",
      "Info    : Meshing curve 19 (Line)\n",
      "Info    : Meshing curve 20 (Line)\n",
      "Info    : Meshing curve 21 (Line)\n",
      "Info    : Meshing curve 22 (Line)\n",
      "Info    : Meshing curve 23 (Line)\n",
      "Info    : Meshing curve 24 (Line)\n",
      "Info    : Meshing curve 25 (Line)\n",
      "Info    : Meshing curve 26 (Line)\n",
      "Info    : Meshing curve 27 (Line)\n",
      "Info    : Meshing curve 28 (Line)\n",
      "Info    : Meshing curve 29 (Line)\n",
      "Info    : Meshing curve 30 (Line)\n",
      "Info    : Meshing curve 31 (Line)\n",
      "Info    : Meshing curve 32 (Line)\n",
      "Info    : Meshing curve 33 (Line)\n",
      "Info    : Meshing curve 34 (Line)\n",
      "Info    : Meshing curve 35 (Line)\n",
      "Info    : Meshing curve 36 (Line)\n",
      "Info    : Meshing curve 37 (Line)\n",
      "Info    : Meshing curve 38 (Line)\n",
      "Info    : Meshing curve 39 (Line)\n",
      "Info    : Meshing curve 40 (Line)\n",
      "Info    : Meshing curve 41 (Line)\n",
      "Info    : Meshing curve 42 (Line)\n",
      "Info    : Meshing curve 43 (Line)\n",
      "Info    : Meshing curve 44 (Line)\n",
      "Info    : Meshing curve 45 (Line)\n",
      "Info    : Meshing curve 46 (Line)\n",
      "Info    : Meshing curve 47 (Line)\n",
      "Info    : Meshing curve 48 (Line)\n",
      "Info    : Meshing curve 49 (Line)\n",
      "Info    : Done meshing 1D (0.011535 s)\n",
      "Info    : Meshing 2D...\n",
      "Info    : Meshing surface 1 (Plane, Frontal)\n",
      "Info    : Meshing surface 2 (Plane, Frontal)\n",
      "Info    : Meshing surface 3 (Plane, Frontal)\n",
      "Info    : Meshing surface 4 (Plane, Frontal)\n",
      "Info    : Meshing surface 5 (Plane, Frontal)\n",
      "Info    : Meshing surface 6 (Plane, Frontal)\n",
      "Info    : Meshing surface 7 (Plane, Frontal)\n",
      "Info    : Meshing surface 8 (Plane, Frontal)\n",
      "Info    : Meshing surface 9 (Plane, Frontal)\n",
      "Info    : Meshing surface 10 (Plane, Frontal)\n",
      "Info    : Meshing surface 11 (Plane, Frontal)\n",
      "Info    : Meshing surface 12 (Plane, Frontal)\n",
      "Info    : Meshing surface 13 (Plane, Frontal)\n",
      "Info    : Meshing surface 14 (Plane, Frontal)\n",
      "Info    : Meshing surface 15 (Plane, Frontal)\n",
      "Info    : Meshing surface 16 (Plane, Frontal)\n",
      "Info    : Meshing surface 17 (Plane, Frontal)\n",
      "Info    : Meshing surface 18 (Plane, Frontal)\n",
      "Info    : Meshing surface 19 (Plane, Frontal)\n",
      "Info    : Done meshing 2D (0.692433 s)\n",
      "Info    : 21380 vertices 43782 elements\n",
      "Info    : Writing 'geometry.msh'...\n",
      "Info    : Done writing 'geometry.msh'\n",
      "Info    : Reading 'geometry.msh'...\n",
      "Info    : 100 entities\n",
      "Info    : 21380 nodes\n",
      "Info    : 43778 elements\n",
      "Info    : Done reading 'geometry.msh'\n"
     ]
    },
    {
     "data": {
      "text/plain": [
       "GridapFEM (generic function with 1 method)"
      ]
     },
     "execution_count": 1,
     "metadata": {},
     "output_type": "execute_result"
    }
   ],
   "source": [
    "using Gmsh\n",
    "using Gridap\n",
    "using GridapGmsh\n",
    "using SparseArrays\n",
    "using Gridap.Geometry\n",
    "using ChainRules\n",
    "using Zygote\n",
    "using NLopt\n",
    "import Gmsh: gmsh\n",
    "import ChainRules: rrule\n",
    "\n",
    "Gridap.outer(a::Number,b::Number) = a * b\n",
    "Gridap.inner(a::Number,b::Number) = a * b\n",
    "Gridap.Helpers.operate(::typeof(tanh),x::Float64)=tanh(x)\n",
    "\n",
    "include(\"MeshGenerator.jl\")\n",
    "include(\"PML.jl\")\n",
    "include(\"Helper.jl\")\n",
    "include(\"FilterAndThreshold.jl\")\n",
    "include(\"Objective.jl\")\n",
    "# Geometry parameters of the mesh\n",
    "L = 4.0           # Length of the normal region\n",
    "h1 = 3.0          # Height of the upper region\n",
    "h2 = 1.5          # Height of the lower region above source\n",
    "h3 = 1.5          # Height of the lower region below source\n",
    "dpml = 1.0        # Thickness of the PML\n",
    "hd = 1.0          # Height of the design region\n",
    "LH = [L,h1,h2+h3]\n",
    "# Characteristic length (controls the resolution, smaller the finer)\n",
    "λ = 1.0           # Wavelength (aribitrary unit)\n",
    "resol = 20.0      # Number of points per wavelength\n",
    "l0 = λ/resol      # Normal region\n",
    "ld = l0           # Design region\n",
    "lpml = 2*l0       # PML \n",
    "\n",
    "# Target region size\n",
    "Lt = 1.0          # Length\n",
    "ht = 1.0          # Height\n",
    "\n",
    "# Physical parameters \n",
    "k = 2*π/λ        # Wave number \n",
    "ω = k            # c=1\n",
    "ϵ1 = 1.0        # Relative electric permittivity for material 1\n",
    "ϵ2 = 12.0       # Relative electric permittivity for material 2\n",
    "μ = 1.0          # Relative magnetic permeability for all materials\n",
    "\n",
    "# PML parameters\n",
    "R = 1e-4         # Tolerence for PML reflection \n",
    "σ = -3/4*log(R)/dpml/sqrt(ϵ1)\n",
    "\n",
    "# Source term (point source approximation)\n",
    "pos = -h2-hd  # Source location\n",
    "δ = l0/5.0    # Gaussian source width\n",
    "\n",
    "\n",
    "MeshGenerator(L,h1,h2,h3,hd,Lt,ht,dpml,l0,ld,lpml)\n",
    "include(\"GridapSetup.jl\")"
   ]
  },
  {
   "cell_type": "code",
   "execution_count": 7,
   "metadata": {},
   "outputs": [
    {
     "name": "stdout",
     "output_type": "stream",
     "text": [
      "g_value = g_p(p) = 0.9666179086552592\n",
      "g_value = g_p(p) = 0.9327333557399917\n",
      "g_value = g_p(p) = 0.7805538135506813\n",
      "g_value = g_p(p) = 1.0037833161700596\n",
      "g_value = g_p(p) = 0.8981039885765705\n",
      "g_value = g_p(p) = 0.7459014386231323\n",
      "g_value = g_p(p) = 0.6828293185129024\n",
      "g_value = g_p(p) = 0.6870573663543711\n",
      "g_value = g_p(p) = 0.6496338119910225\n",
      "g_value = g_p(p) = 0.6982175685621688\n",
      "g_value = g_p(p) = 0.6418054778823883\n",
      "g_value = g_p(p) = 0.6370891663810299\n",
      "g_value = g_p(p) = 0.6585962391060863\n",
      "g_value = g_p(p) = 0.6363213478456035\n",
      "g_value = g_p(p) = 0.6359566922140988\n",
      "g_value = g_p(p) = 0.633667216869198\n",
      "g_value = g_p(p) = 0.6296580907123278\n",
      "g_value = g_p(p) = 1.1333237533403906\n",
      "g_value = g_p(p) = 0.6417907611269256\n",
      "g_value = g_p(p) = 0.6291722641538271\n",
      "g_value = g_p(p) = 0.6286661474646924\n",
      "g_value = g_p(p) = 0.6277456618776043\n",
      "g_value = g_p(p) = 0.6274562595811539\n",
      "g_value = g_p(p) = 0.6243178897462931\n",
      "g_value = g_p(p) = 0.7420570670937419\n",
      "g_value = g_p(p) = 0.6397254873876895\n",
      "g_value = g_p(p) = 0.6242036920165015\n",
      "g_value = g_p(p) = 0.624142120353113\n",
      "g_value = g_p(p) = 0.6232519143035675\n",
      "g_value = g_p(p) = 0.6294695075158498\n",
      "g_value = g_p(p) = 0.6229981529203558\n",
      "numevals = opt.numevals = 31\n"
     ]
    },
    {
     "data": {
      "text/plain": [
       "0.05191651274336298"
      ]
     },
     "execution_count": 7,
     "metadata": {},
     "output_type": "execute_result"
    }
   ],
   "source": [
    "# Filter and threshold paramters\n",
    "r = ld*2.0       # Filter radius\n",
    "β = 15.0        # β∈[1,∞], threshold sharpness\n",
    "η = 0.5          # η∈[0,1], threshold center\n",
    "\n",
    "# Loss control\n",
    "α = 0.\n",
    "\n",
    "It = 1.0\n",
    "I = 2*π*It           # Source amplitude\n",
    "\n",
    "linesource = true\n",
    "flag_t = true    # Turn on/off the threshold\n",
    "flag_f = true    # Turn on/off the filter\n",
    " \n",
    "opt = Opt(:LD_MMA, np)\n",
    "opt.lower_bounds = 0.0\n",
    "opt.upper_bounds = 1.0\n",
    "opt.ftol_rel = 1e-3\n",
    "#opt.stopval = 0.0505*L*h1\n",
    "opt.maxeval = 200\n",
    "opt.min_objective = g_p\n",
    "\n",
    "#(g_opt,p_opt,ret) = optimize(opt, ones(np)*0.5)\n",
    "(g_opt,p_opt,ret) = optimize(opt, p)\n",
    "@show numevals = opt.numevals # the number of function evaluations\n",
    "\n",
    "# Display u and ε\n",
    "p = p_opt\n",
    "#p = rand(np)\n",
    "pf = pf_p(p)\n",
    "uvec = u_pf(pf)./It\n",
    "ϵ0 = ϵ1 + (ϵ2-ϵ1)*FEFunction(P,p_vec(p,P,tags,design_tag))\n",
    "if (flag_f)\n",
    "    ϵt = ϵ1 + (ϵ2-ϵ1)*Threshold(β,η,FEFunction(Pf,pf),flag_t)\n",
    "else\n",
    "    ϵt = ϵ1 + (ϵ2-ϵ1)*Threshold(β,η,FEFunction(P,pf),flag_t)\n",
    "end\n",
    "f2_target(x) = ((abs(x[1])<=Lt/2)&&(abs(x[2]-h1/2)<=ht/2))\n",
    "diff = myabs2(myabs2(FEFunction(U,uvec))-f2_target)\n",
    "writevtk(trian,\"demo\",cellfields=[\"diff\"=>diff,\"ϵ0\"=>ϵ0,\"ϵt\"=>ϵt,\"Real(E)\"=>FEFunction(U,real(uvec)),\"Imag(E)\"=>FEFunction(U,imag(uvec)),\"|E|^2\"=>FEFunction(U,(real(uvec).^2+imag(uvec).^2))])\n",
    "diff1 = restrict(diff,trian_t1)\n",
    "diff2 = restrict(diff,trian_t2)\n",
    "(sum(integrate(diff1,trian_t1,quad_t1))+sum(integrate(diff2,trian_t2,quad_t2)))/(L*h1)"
   ]
  },
  {
   "cell_type": "code",
   "execution_count": 56,
   "metadata": {},
   "outputs": [
    {
     "data": {
      "text/plain": [
       "0.6199431608764043"
      ]
     },
     "execution_count": 56,
     "metadata": {},
     "output_type": "execute_result"
    }
   ],
   "source": [
    "g_p(p_opt)"
   ]
  },
  {
   "cell_type": "code",
   "execution_count": 30,
   "metadata": {},
   "outputs": [
    {
     "name": "stdout",
     "output_type": "stream",
     "text": [
      "norm(h) = 4.309036726698927\n",
      "norm(h) = 0.5386295908373658\n",
      "norm(h) = 0.06732869885467073\n",
      "norm(h) = 0.008416087356833841\n",
      "norm(h) = 0.0010520109196042301\n",
      "norm(h) = 0.00013150136495052877\n",
      "norm(h) = 1.6437670618816096e-5\n"
     ]
    },
    {
     "data": {
      "text/plain": [
       "(-0.0308899507138315, 3.9116175576392465e-12)"
      ]
     },
     "execution_count": 30,
     "metadata": {},
     "output_type": "execute_result"
    }
   ],
   "source": [
    "using Richardson\n",
    "using Random\n",
    "p0 = rand(np)\n",
    "#p0=p_opt\n",
    "#Random.seed!(1)\n",
    "δp = rand(np)\n",
    "#δp = rand(num_free_dofs(P))\n",
    "#flag_t = true\n",
    "#flag_f = true\n",
    "#include(\"GridapSetup.jl\")\n",
    "#include(\"FilterAndThreshold.jl\")\n",
    "#include(\"Objective.jl\")\n",
    "extrapolate(δp*0.1, rtol=0) do h\n",
    "    @show norm(h)\n",
    "    (g_p(h+p0)-g_p(p0)) / norm(h)\n",
    "end"
   ]
  },
  {
   "cell_type": "code",
   "execution_count": 31,
   "metadata": {},
   "outputs": [
    {
     "name": "stdout",
     "output_type": "stream",
     "text": [
      "g_value = g_p(p) = 1.444256160044532\n"
     ]
    },
    {
     "data": {
      "text/plain": [
       "-0.030889950641654843"
      ]
     },
     "execution_count": 31,
     "metadata": {},
     "output_type": "execute_result"
    }
   ],
   "source": [
    "dgdp=zeros(np)\n",
    "#dgdp=zeros(num_free_dofs(P))\n",
    "g_p(p0,dgdp)\n",
    "dgdp'*δp/norm(δp)"
   ]
  },
  {
   "cell_type": "code",
   "execution_count": 55,
   "metadata": {},
   "outputs": [
    {
     "data": {
      "text/plain": [
       "g_p (generic function with 2 methods)"
      ]
     },
     "execution_count": 55,
     "metadata": {},
     "output_type": "execute_result"
    }
   ],
   "source": [
    "include(\"Objective.jl\")"
   ]
  },
  {
   "cell_type": "code",
   "execution_count": 52,
   "metadata": {},
   "outputs": [
    {
     "data": {
      "text/plain": [
       "(0.6199431608764043, 2.242503010452102)"
      ]
     },
     "execution_count": 52,
     "metadata": {},
     "output_type": "execute_result"
    }
   ],
   "source": [
    "g_u(uvec)"
   ]
  },
  {
   "cell_type": "code",
   "execution_count": null,
   "metadata": {},
   "outputs": [],
   "source": []
  }
 ],
 "metadata": {
  "kernelspec": {
   "display_name": "Julia 1.5.1",
   "language": "julia",
   "name": "julia-1.5"
  },
  "language_info": {
   "file_extension": ".jl",
   "mimetype": "application/julia",
   "name": "julia",
   "version": "1.5.1"
  }
 },
 "nbformat": 4,
 "nbformat_minor": 4
}
